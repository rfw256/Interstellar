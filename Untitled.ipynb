{
 "cells": [
  {
   "cell_type": "code",
   "execution_count": 1,
   "id": "b94eff70-c809-4d12-af33-e848804b1b10",
   "metadata": {},
   "outputs": [],
   "source": [
    "import numpy as np"
   ]
  },
  {
   "cell_type": "code",
   "execution_count": 76,
   "id": "d7f8c9ce-eeb0-497b-bf96-53dfb5938499",
   "metadata": {},
   "outputs": [],
   "source": [
    "dist_1 = 82\n",
    "width_1 = 60\n",
    "height_1 = width_1 * resolution[1] / resolution[0]\n",
    "\n",
    "dist_2 = 83.5\n",
    "width_2 = 64.35\n",
    "height_2 = width_2 * resolution[1] / resolution[0]\n",
    "\n",
    "resolution = [1920, 1080]"
   ]
  },
  {
   "cell_type": "code",
   "execution_count": 98,
   "id": "403aa3dd-467a-4a63-8cb6-e8df7ed38bf2",
   "metadata": {},
   "outputs": [
    {
     "data": {
      "text/plain": [
       "7.634126541839308"
      ]
     },
     "execution_count": 98,
     "metadata": {},
     "output_type": "execute_result"
    }
   ],
   "source": [
    "view_angle = lambda width, dist: 2 * np.arctan2(width/2, dist) * (180/np.pi)\n",
    "pixels_per_degree = lambda res, angle: res[0]/angle\n",
    "\n",
    "deg2pix = lambda deg, ppd: ppd*deg\n",
    "pix2cm = lambda pix, width, res: pix * (width/res[0])\n",
    "\n",
    "def deg2cm(dist, width, resolution, deg):\n",
    "    theta = view_angle(width, dist)\n",
    "    ppd = pixels_per_degree(resolution, theta)\n",
    "    pix = deg2pix(deg, ppd)\n",
    "    cm = pix2cm(pix, width, resolution)\n",
    "    \n",
    "    return cm\n",
    "\n",
    "deg2cm(dist_2, width_2, resolution, 5)\n",
    "\n",
    "\n",
    "\n"
   ]
  },
  {
   "cell_type": "code",
   "execution_count": 99,
   "id": "9089319d-4a60-4324-9fb2-b8d0a2c80947",
   "metadata": {},
   "outputs": [
    {
     "data": {
      "text/plain": [
       "array([59.00478562, 33.19019191])"
      ]
     },
     "execution_count": 99,
     "metadata": {},
     "output_type": "execute_result"
    }
   ],
   "source": [
    "deg = 5\n",
    "cm = 7\n",
    "cm_per_deg = cm / deg\n",
    "\n",
    "ppd = pixels_per_degree(resolution, view_angle(width_2, dist_2))\n",
    "\n",
    "pix_per_cm = ppd / cm_per_deg\n",
    "np.asarray(resolution)/pix_per_cm"
   ]
  },
  {
   "cell_type": "code",
   "execution_count": 92,
   "id": "7915ec1d-4830-4a2a-ba97-2ea9666dfe82",
   "metadata": {},
   "outputs": [
    {
     "data": {
      "text/plain": [
       "36.196875"
      ]
     },
     "execution_count": 92,
     "metadata": {},
     "output_type": "execute_result"
    }
   ],
   "source": [
    "height_2"
   ]
  },
  {
   "cell_type": "code",
   "execution_count": 93,
   "id": "1437c110-0f8b-4d96-96ee-67e0c8e0e4c5",
   "metadata": {},
   "outputs": [
    {
     "data": {
      "text/plain": [
       "46"
      ]
     },
     "execution_count": 93,
     "metadata": {},
     "output_type": "execute_result"
    }
   ],
   "source": [
    "ppd"
   ]
  },
  {
   "cell_type": "code",
   "execution_count": null,
   "id": "77e89ff4-7d07-417d-beda-b5a724adb189",
   "metadata": {},
   "outputs": [],
   "source": []
  }
 ],
 "metadata": {
  "kernelspec": {
   "display_name": "Python 3 (ipykernel)",
   "language": "python",
   "name": "python3"
  },
  "language_info": {
   "codemirror_mode": {
    "name": "ipython",
    "version": 3
   },
   "file_extension": ".py",
   "mimetype": "text/x-python",
   "name": "python",
   "nbconvert_exporter": "python",
   "pygments_lexer": "ipython3",
   "version": "3.9.10"
  }
 },
 "nbformat": 4,
 "nbformat_minor": 5
}
