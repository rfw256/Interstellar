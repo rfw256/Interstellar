{
 "cells": [
  {
   "cell_type": "code",
   "execution_count": 20,
   "id": "fe48704d-1d0c-49e5-8a23-e2e2cb59d531",
   "metadata": {},
   "outputs": [],
   "source": [
    "import numpy as np\n",
    "import os\n",
    "import pandas as pd\n",
    "import matplotlib.pyplot as plt\n",
    "from scipy.sparse import csr_matrix\n",
    "import glob\n",
    "import nibabel as nib\n",
    "import warnings\n",
    "from tqdm import tqdm\n",
    "import time\n",
    "from pprint import pprint\n",
    "from scipy.stats import sem\n",
    "warnings.filterwarnings('ignore')\n",
    "import pickle\n",
    "\n",
    "import glmsingle\n",
    "from glmsingle.glmsingle import GLM_single"
   ]
  },
  {
   "cell_type": "code",
   "execution_count": 21,
   "id": "7cba918f-0970-4ee8-8aca-8203b5dfd6d0",
   "metadata": {},
   "outputs": [],
   "source": [
    "import numpy as np\n",
    "import os\n",
    "import pandas as pd\n",
    "import matplotlib.pyplot as plt\n",
    "from scipy.sparse import csr_matrix\n",
    "import glob\n",
    "import nibabel as nib\n",
    "import warnings\n",
    "from tqdm import tqdm\n",
    "import time\n",
    "from pprint import pprint\n",
    "from scipy.stats import sem\n",
    "warnings.filterwarnings('ignore')\n",
    "import pickle\n",
    "\n",
    "import glmsingle\n",
    "from glmsingle.glmsingle import GLM_single"
   ]
  },
  {
   "cell_type": "markdown",
   "id": "0e2b59d0-8d10-45b4-b7f0-bbb7cb385183",
   "metadata": {},
   "source": [
    "# Helper Functions\n",
    "* trialDM: Create a design matrix based off trial design csv"
   ]
  },
  {
   "cell_type": "code",
   "execution_count": 22,
   "id": "f906a481-b323-4a44-864d-a4710dadefd4",
   "metadata": {},
   "outputs": [],
   "source": [
    "def get_designfilenames(sub_dir, wlsubj, exceptions = [], key = 'Trial'):\n",
    "    design_filenames = glob.glob(os.path.join(sub_dir, \"sub-wlsubj%03d/*design%s*\" % (wlsubj, key)))\n",
    "    designs = []\n",
    "    \n",
    "    for i, d in enumerate(design_filenames):\n",
    "        if i not in exceptions:\n",
    "            designs.append(d)\n",
    "    \n",
    "    designs.sort()\n",
    "    \n",
    "    return designs\n",
    "    \n",
    "\n",
    "def designMatrix(design_filename, n_TR, trial_dur, initial_delay = 10, plot = False, save = True):\n",
    "    d = pd.read_csv(design_filename, sep = '\\t')\n",
    "    conds = np.unique(d.gratingAng)\n",
    "    conds.sort()\n",
    "\n",
    "    n_pos = len(conds)\n",
    "    n_conds = n_pos * 2\n",
    "\n",
    "    D = np.zeros([n_TR, n_conds])\n",
    "    run_time = initial_delay\n",
    "\n",
    "    for i, trial in d.iterrows():\n",
    "        ang = trial.gratingAng\n",
    "        iti = trial.ITIDur\n",
    "\n",
    "        row = int(run_time)\n",
    "        if trial.saccadeType == 'Saccade':\n",
    "            col = np.where(ang == conds)[0][0]\n",
    "        else: \n",
    "            col = np.where(ang == conds)[0][0] + n_pos\n",
    "\n",
    "        run_time += trial_dur + iti\n",
    "\n",
    "        D[row, col] = 1\n",
    "\n",
    "    if plot:\n",
    "        plt.imshow(D,aspect='auto',interpolation='none')\n",
    "        plt.gcf().set_size_inches(10, 10)\n",
    "        \n",
    "    if save:\n",
    "        save_path = '../designs/%s/' % design_filename.split('/')[-2]\n",
    "        if not os.path.exists(save_path):\n",
    "            os.makedirs(save_path)\n",
    "        \n",
    "        filename = design_filename.split('/')[-1].split('designTrial.tsv')[0] + 'design.npy'\n",
    "        np.save(os.path.join(save_path, filename), D)\n",
    "        \n",
    "    return D\n",
    "\n",
    "\n",
    "def get_funcfilenames(sub_dir, wlsubj, session, save = True):\n",
    "    datafiles = glob.glob(os.path.join(sub_dir, \"sub-wlsubj%03d/ses-%s/func/sub-wlsubj%03d*mgz\" % (wlsubj, session, wlsubj)))\n",
    "    datafiles.sort()\n",
    "    \n",
    "    return datafiles\n",
    "    \n",
    "\n",
    "def load_hemidata(filenames, save = True):\n",
    "    data = []\n",
    "    for i, filename in enumerate(filenames):\n",
    "        print('Nib. Loading:\\n\\t', filename)\n",
    "        scan = nib.load(filename)\n",
    "        print(filename, '\\n\\t', scan.shape)\n",
    "        \n",
    "        if i % 2:\n",
    "            data[int(i/2)] = np.concatenate([data[int(i/2)], scan.get_fdata()])\n",
    "            \n",
    "            if save:\n",
    "                subj_id = filename.split('/')[-4]\n",
    "                prefix = filename.split('/')[-1].split('space')[0]\n",
    "                \n",
    "                save_path = '../voxels/%s/' % subj_id\n",
    "                \n",
    "                if not os.path.exists(save_path):\n",
    "                    os.makedirs(save_path)\n",
    "\n",
    "                save_name = prefix + 'hemi-both.npy'\n",
    "                np.save(os.path.join(save_path, save_name), data[int(i/2)])\n",
    "                print('Saved to: %s' % save_name)\n",
    "\n",
    "        else:\n",
    "            data.append(scan.get_fdata())\n",
    "    \n",
    "    return data\n",
    "\n",
    "    "
   ]
  },
  {
   "cell_type": "code",
   "execution_count": 25,
   "id": "5bb0ac6a-cd3f-488c-907f-646d2b4759c6",
   "metadata": {},
   "outputs": [],
   "source": [
    "design_dir = '/Users/rob/mnt/winawer/Projects/Interstellar/task/Interstellar/main/design/'\n",
    "sub_dir = design_dir\n",
    "wlsubj = 139\n",
    "key = 'Trial'\n",
    "design_filenames = glob.glob(os.path.join(sub_dir, \"sub-wlsubj%03d/*design%s*\" % (wlsubj, key)))\n"
   ]
  },
  {
   "cell_type": "code",
   "execution_count": 48,
   "id": "286cb83d-63ae-4fb8-91ea-00b6a2e2941f",
   "metadata": {},
   "outputs": [],
   "source": [
    " files = ['sub-wlsubj139_run-01_perception_07-16-22_14-25_trialdesign.tsv',\n",
    " 'sub-wlsubj139_run-02_ltm_07-16-22_14-33_trialdesign.tsv',\n",
    " 'sub-wlsubj139_run-03_wm_07-16-22_14-39_trialdesign.tsv',\n",
    " 'sub-wlsubj139_run-04_perception_07-16-22_14-45_trialdesign.tsv',\n",
    " 'sub-wlsubj139_run-05_ltm_07-16-22_14-50_trialdesign.tsv',\n",
    " 'sub-wlsubj139_run-06_wm_07-16-22_14-56_trialdesign.tsv']"
   ]
  },
  {
   "cell_type": "code",
   "execution_count": 49,
   "id": "a9706007-4012-4739-9939-92fad55d5cbb",
   "metadata": {},
   "outputs": [
    {
     "data": {
      "text/plain": [
       "['sub-wlsubj139_run-01_perception_07-16-22_14-25_trialdesign.tsv',\n",
       " 'sub-wlsubj139_run-02_ltm_07-16-22_14-32_trialdesign.tsv',\n",
       " 'sub-wlsubj139_run-02_ltm_07-16-22_14-33_trialdesign.tsv',\n",
       " 'sub-wlsubj139_run-03_wm_07-16-22_14-39_trialdesign.tsv',\n",
       " 'sub-wlsubj139_run-04_perception_07-16-22_14-45_trialdesign.tsv',\n",
       " 'sub-wlsubj139_run-05_ltm_07-16-22_14-50_trialdesign.tsv',\n",
       " 'sub-wlsubj139_run-06_wm_07-16-22_14-56_trialdesign.tsv']"
      ]
     },
     "execution_count": 49,
     "metadata": {},
     "output_type": "execute_result"
    }
   ],
   "source": [
    "files"
   ]
  },
  {
   "cell_type": "code",
   "execution_count": 43,
   "id": "664749f6-8f52-40e7-b6f7-717fdb8a6fd3",
   "metadata": {},
   "outputs": [],
   "source": [
    "design_files = glob.glob(os.path.join(sub_dir, \"sub-wlsubj%03d/*run-0[1-6]*.tsv\" % wlsubj))"
   ]
  },
  {
   "cell_type": "code",
   "execution_count": 58,
   "id": "24dcef0f-c110-480f-96c4-756759b8ed2b",
   "metadata": {},
   "outputs": [],
   "source": [
    "\n",
    "design_dir = '~/mnt/winawer/Projects/Interstellar/task/Interstellar/main/design/'\n",
    "\n",
    "design_filenames = [\n",
    "    'sub-wlsubj139_run-01_perception_07-16-22_14-25_trialdesign.tsv',\n",
    "    'sub-wlsubj139_run-02_ltm_07-16-22_14-33_trialdesign.tsv',\n",
    "    'sub-wlsubj139_run-03_wm_07-16-22_14-39_trialdesign.tsv',\n",
    "    'sub-wlsubj139_run-04_perception_07-16-22_14-45_trialdesign.tsv',\n",
    "    'sub-wlsubj139_run-05_ltm_07-16-22_14-50_trialdesign.tsv',\n",
    "    'sub-wlsubj139_run-06_wm_07-16-22_14-56_trialdesign.tsv'\n",
    "]"
   ]
  },
  {
   "cell_type": "code",
   "execution_count": 59,
   "id": "48944162-38e9-4d53-aa2e-e303dc0e8916",
   "metadata": {},
   "outputs": [
    {
     "data": {
      "text/plain": [
       "['/Users/rob/mnt/winawer/Projects/Interstellar/task/Interstellar/main/design/sub-wlsubj139/sub-wlsubj139_run-01_perception_07-16-22_14-25_trialdesign.tsv',\n",
       " '/Users/rob/mnt/winawer/Projects/Interstellar/task/Interstellar/main/design/sub-wlsubj139/sub-wlsubj139_run-02_ltm_07-16-22_14-33_trialdesign.tsv',\n",
       " '/Users/rob/mnt/winawer/Projects/Interstellar/task/Interstellar/main/design/sub-wlsubj139/sub-wlsubj139_run-03_wm_07-16-22_14-39_trialdesign.tsv',\n",
       " '/Users/rob/mnt/winawer/Projects/Interstellar/task/Interstellar/main/design/sub-wlsubj139/sub-wlsubj139_run-04_perception_07-16-22_14-45_trialdesign.tsv',\n",
       " '/Users/rob/mnt/winawer/Projects/Interstellar/task/Interstellar/main/design/sub-wlsubj139/sub-wlsubj139_run-05_ltm_07-16-22_14-50_trialdesign.tsv',\n",
       " '/Users/rob/mnt/winawer/Projects/Interstellar/task/Interstellar/main/design/sub-wlsubj139/sub-wlsubj139_run-06_wm_07-16-22_14-56_trialdesign.tsv']"
      ]
     },
     "execution_count": 59,
     "metadata": {},
     "output_type": "execute_result"
    }
   ],
   "source": [
    "    design_dir = os.path.expanduser(design_dir)\n",
    "    design_filepaths = [os.path.join(design_dir, \"sub-wlsubj%03d\" % wlsubj, filename) for filename in design_filenames]\n",
    "    design_filepaths.sort()\n",
    "    design_filepaths"
   ]
  },
  {
   "cell_type": "code",
   "execution_count": 66,
   "id": "6be77dca-163a-4f45-a150-81c740bffe43",
   "metadata": {},
   "outputs": [
    {
     "data": {
      "text/plain": [
       "[array([10, 13,  5,  2, 14,  3,  0,  8,  9, 15,  4,  1,  7, 11,  6, 12]),\n",
       " array([19, 18, 24, 22, 27, 16, 23, 28, 21, 25, 20, 30, 29, 31, 26, 17]),\n",
       " array([42, 39, 44, 43, 32, 33, 41, 37, 35, 34, 38, 47, 45, 46, 36, 40]),\n",
       " array([14, 11,  4,  1,  8, 15, 12, 10,  3, 13,  7,  6,  2,  0,  9,  5]),\n",
       " array([28, 27, 31, 22, 26, 16, 25, 21, 18, 20, 29, 19, 23, 17, 24, 30]),\n",
       " array([44, 33, 36, 43, 38, 39, 35, 32, 47, 46, 45, 42, 40, 41, 37, 34])]"
      ]
     },
     "execution_count": 66,
     "metadata": {},
     "output_type": "execute_result"
    }
   ],
   "source": [
    "conds = []\n",
    "itis = []\n",
    "for d in design_filepaths:\n",
    "    conds.append(pd.read_csv(d, sep = '\\t').cond.values)\n",
    "    itis.append(pd.read_csv(d, sep = '\\t').ITIDur.values)\n",
    "    \n",
    "conds = np.asarray(conds)\n",
    "itis = np.asarray(itis)"
   ]
  },
  {
   "cell_type": "code",
   "execution_count": 67,
   "id": "9450e237-52ad-4ff3-a74e-8043d9a3b6fb",
   "metadata": {},
   "outputs": [
    {
     "data": {
      "text/plain": [
       "[array([2500, 4500, 4500, 3500, 3500, 5500, 5500, 2500, 4500, 2500, 2500,\n",
       "        3500, 5500, 3500, 5500, 4500]),\n",
       " array([2500, 2500, 2500, 5500, 4500, 4500, 5500, 2500, 3500, 3500, 4500,\n",
       "        4500, 3500, 3500, 5500, 5500]),\n",
       " array([5500, 3500, 2500, 5500, 4500, 2500, 5500, 2500, 5500, 3500, 3500,\n",
       "        3500, 4500, 4500, 2500, 4500]),\n",
       " array([4500, 3500, 3500, 4500, 3500, 5500, 5500, 2500, 5500, 4500, 2500,\n",
       "        4500, 2500, 3500, 5500, 2500]),\n",
       " array([2500, 5500, 2500, 5500, 4500, 3500, 4500, 4500, 2500, 5500, 3500,\n",
       "        2500, 5500, 3500, 4500, 3500]),\n",
       " array([5500, 2500, 3500, 3500, 2500, 2500, 4500, 2500, 3500, 4500, 5500,\n",
       "        3500, 5500, 5500, 4500, 4500])]"
      ]
     },
     "execution_count": 67,
     "metadata": {},
     "output_type": "execute_result"
    }
   ],
   "source": [
    "itis"
   ]
  },
  {
   "cell_type": "code",
   "execution_count": 69,
   "id": "9415811c-560d-489e-840a-a1d1d8fdd7a7",
   "metadata": {},
   "outputs": [
    {
     "data": {
      "text/plain": [
       "(6, 16)"
      ]
     },
     "execution_count": 69,
     "metadata": {},
     "output_type": "execute_result"
    }
   ],
   "source": [
    "np.asarray(conds).shape"
   ]
  },
  {
   "cell_type": "code",
   "execution_count": 78,
   "id": "0b074baf-0243-4ec2-a43f-e1d03c130b47",
   "metadata": {},
   "outputs": [
    {
     "name": "stdout",
     "output_type": "stream",
     "text": [
      "(16,)\n",
      "(16,)\n",
      "(16,)\n",
      "(16,)\n",
      "(16,)\n",
      "(16,)\n"
     ]
    }
   ],
   "source": [
    "for i in itis: print(i.shape)"
   ]
  },
  {
   "cell_type": "code",
   "execution_count": 90,
   "id": "5900e06d-8fc5-4c6a-a593-3f6130f0380b",
   "metadata": {},
   "outputs": [
    {
     "data": {
      "text/plain": [
       "272"
      ]
     },
     "execution_count": 90,
     "metadata": {},
     "output_type": "execute_result"
    }
   ],
   "source": [
    "17*16"
   ]
  },
  {
   "cell_type": "code",
   "execution_count": 93,
   "id": "379dfcad-c7fb-493b-bb0a-b22dc9827eb3",
   "metadata": {},
   "outputs": [
    {
     "data": {
      "text/plain": [
       "17.0"
      ]
     },
     "execution_count": 93,
     "metadata": {},
     "output_type": "execute_result"
    }
   ],
   "source": [
    "cue+delay+sacc + np.mean(itis)/1000"
   ]
  },
  {
   "cell_type": "code",
   "execution_count": 113,
   "id": "224ceb61-be60-43d4-b3df-4afd67d793a4",
   "metadata": {},
   "outputs": [],
   "source": [
    "def generateDesignMatrix(design_filepath, n_TR, n_conds):\n",
    "    pre_scan_delay = 10\n",
    "    cue = 0.5\n",
    "    delay = 11.5\n",
    "    sacc = 1\n",
    "    trial_dur = cue+delay+sacc\n",
    "\n",
    "    D = np.zeros([n_TR, n_conds])\n",
    "\n",
    "    design = pd.read_csv(d, sep = '\\t')\n",
    "    run_time = pre_scan_delay\n",
    "\n",
    "    for j, trial in design.iterrows():\n",
    "        row = int(run_time)\n",
    "        col = trial.cond\n",
    "\n",
    "        run_time += trial_dur + int(trial.ITIDur/1000)\n",
    "\n",
    "        D[row, col] = 1\n",
    "            \n",
    "    return(D)"
   ]
  },
  {
   "cell_type": "code",
   "execution_count": 118,
   "id": "55fb4c6e-d2e2-4eea-b964-ccf1ee94ccde",
   "metadata": {},
   "outputs": [],
   "source": [
    "    design = [generateDesignMatrix(d, n_TR, n_conds) for d in design_filepaths]"
   ]
  },
  {
   "cell_type": "code",
   "execution_count": 122,
   "id": "bd4f33d7-2ff8-443d-83f2-bbc1034033e5",
   "metadata": {},
   "outputs": [
    {
     "data": {
      "text/plain": [
       "6"
      ]
     },
     "execution_count": 122,
     "metadata": {},
     "output_type": "execute_result"
    }
   ],
   "source": [
    "len(design)"
   ]
  },
  {
   "cell_type": "code",
   "execution_count": 117,
   "id": "8b73bcff-a21c-41db-b9a4-1a28be301800",
   "metadata": {},
   "outputs": [
    {
     "data": {
      "text/plain": [
       "array([[0., 0., 0., ..., 0., 0., 0.],\n",
       "       [0., 0., 0., ..., 0., 0., 0.],\n",
       "       [0., 0., 0., ..., 0., 0., 0.],\n",
       "       ...,\n",
       "       [0., 0., 0., ..., 0., 0., 0.],\n",
       "       [0., 0., 0., ..., 0., 0., 0.],\n",
       "       [0., 0., 0., ..., 0., 0., 0.]])"
      ]
     },
     "execution_count": 117,
     "metadata": {},
     "output_type": "execute_result"
    }
   ],
   "source": [
    "generateDesignMatrix(design_filepaths[0], n_TR, n_conds)"
   ]
  },
  {
   "cell_type": "code",
   "execution_count": 8,
   "id": "dcf47647-cb0d-4a11-88e9-f0112419fcb0",
   "metadata": {},
   "outputs": [],
   "source": [
    "wlsubj = 114\n",
    "sacc_dur = 1\n",
    "stimdur = 11.5\n",
    "trial_dur = sacc_dur + stimdur\n",
    "n_TR = 280\n",
    "tr = 1\n",
    "\n",
    "design_dir = '/Users/rob/mnt/winawer/Projects/Interstellar/task/Interstellar/pilot/design/'\n",
    "\n",
    "design_files = get_designfilenames(design_dir, 114, [1])\n",
    "\n",
    "design = [designMatrix(d, n_TR, trial_dur) for d in design_files]\n"
   ]
  },
  {
   "cell_type": "code",
   "execution_count": 131,
   "id": "72a2edda-68cd-47aa-b531-f8ed86f82f98",
   "metadata": {},
   "outputs": [],
   "source": [
    "fmriprep_dir = '~/mnt/winawer/Projects/Interstellar/derivatives/fmriprep'\n",
    "fmriprep_dir = os.path.expanduser(fmriprep_dir)\n",
    "wlsubj = 114\n",
    "session = 'nyu3t01'\n",
    "funcs_filenames = get_funcfilenames(fmriprep_dir, wlsubj, 'nyu3t01')\n",
    "\n",
    "#data = load_hemidata(funcs_filenames)"
   ]
  },
  {
   "cell_type": "code",
   "execution_count": 133,
   "id": "803c3a2f-d3d4-47dc-9151-f3deececcbac",
   "metadata": {},
   "outputs": [
    {
     "data": {
      "text/plain": [
       "['/Users/rob/mnt/winawer/Projects/Interstellar/derivatives/fmriprep/sub-wlsubj114/ses-nyu3t01/func/sub-wlsubj114_ses-nyu3t01_task-intpilot_run-1_space-fsnative_hemi-L_bold.func.mgz',\n",
       " '/Users/rob/mnt/winawer/Projects/Interstellar/derivatives/fmriprep/sub-wlsubj114/ses-nyu3t01/func/sub-wlsubj114_ses-nyu3t01_task-intpilot_run-1_space-fsnative_hemi-R_bold.func.mgz',\n",
       " '/Users/rob/mnt/winawer/Projects/Interstellar/derivatives/fmriprep/sub-wlsubj114/ses-nyu3t01/func/sub-wlsubj114_ses-nyu3t01_task-intpilot_run-2_space-fsnative_hemi-L_bold.func.mgz',\n",
       " '/Users/rob/mnt/winawer/Projects/Interstellar/derivatives/fmriprep/sub-wlsubj114/ses-nyu3t01/func/sub-wlsubj114_ses-nyu3t01_task-intpilot_run-2_space-fsnative_hemi-R_bold.func.mgz',\n",
       " '/Users/rob/mnt/winawer/Projects/Interstellar/derivatives/fmriprep/sub-wlsubj114/ses-nyu3t01/func/sub-wlsubj114_ses-nyu3t01_task-intpilot_run-3_space-fsnative_hemi-L_bold.func.mgz',\n",
       " '/Users/rob/mnt/winawer/Projects/Interstellar/derivatives/fmriprep/sub-wlsubj114/ses-nyu3t01/func/sub-wlsubj114_ses-nyu3t01_task-intpilot_run-3_space-fsnative_hemi-R_bold.func.mgz',\n",
       " '/Users/rob/mnt/winawer/Projects/Interstellar/derivatives/fmriprep/sub-wlsubj114/ses-nyu3t01/func/sub-wlsubj114_ses-nyu3t01_task-intpilot_run-4_space-fsnative_hemi-L_bold.func.mgz',\n",
       " '/Users/rob/mnt/winawer/Projects/Interstellar/derivatives/fmriprep/sub-wlsubj114/ses-nyu3t01/func/sub-wlsubj114_ses-nyu3t01_task-intpilot_run-4_space-fsnative_hemi-R_bold.func.mgz',\n",
       " '/Users/rob/mnt/winawer/Projects/Interstellar/derivatives/fmriprep/sub-wlsubj114/ses-nyu3t01/func/sub-wlsubj114_ses-nyu3t01_task-intpilot_run-5_space-fsnative_hemi-L_bold.func.mgz',\n",
       " '/Users/rob/mnt/winawer/Projects/Interstellar/derivatives/fmriprep/sub-wlsubj114/ses-nyu3t01/func/sub-wlsubj114_ses-nyu3t01_task-intpilot_run-5_space-fsnative_hemi-R_bold.func.mgz',\n",
       " '/Users/rob/mnt/winawer/Projects/Interstellar/derivatives/fmriprep/sub-wlsubj114/ses-nyu3t01/func/sub-wlsubj114_ses-nyu3t01_task-intpilot_run-6_space-fsnative_hemi-L_bold.func.mgz',\n",
       " '/Users/rob/mnt/winawer/Projects/Interstellar/derivatives/fmriprep/sub-wlsubj114/ses-nyu3t01/func/sub-wlsubj114_ses-nyu3t01_task-intpilot_run-6_space-fsnative_hemi-R_bold.func.mgz',\n",
       " '/Users/rob/mnt/winawer/Projects/Interstellar/derivatives/fmriprep/sub-wlsubj114/ses-nyu3t01/func/sub-wlsubj114_ses-nyu3t01_task-intpilot_run-7_space-fsnative_hemi-L_bold.func.mgz',\n",
       " '/Users/rob/mnt/winawer/Projects/Interstellar/derivatives/fmriprep/sub-wlsubj114/ses-nyu3t01/func/sub-wlsubj114_ses-nyu3t01_task-intpilot_run-7_space-fsnative_hemi-R_bold.func.mgz',\n",
       " '/Users/rob/mnt/winawer/Projects/Interstellar/derivatives/fmriprep/sub-wlsubj114/ses-nyu3t01/func/sub-wlsubj114_ses-nyu3t01_task-intpilot_run-8_space-fsnative_hemi-L_bold.func.mgz',\n",
       " '/Users/rob/mnt/winawer/Projects/Interstellar/derivatives/fmriprep/sub-wlsubj114/ses-nyu3t01/func/sub-wlsubj114_ses-nyu3t01_task-intpilot_run-8_space-fsnative_hemi-R_bold.func.mgz']"
      ]
     },
     "execution_count": 133,
     "metadata": {},
     "output_type": "execute_result"
    }
   ],
   "source": [
    "funcs_filenames"
   ]
  },
  {
   "cell_type": "code",
   "execution_count": 79,
   "id": "0ab9841b-55f2-4bc4-905d-7ce6b69b86b1",
   "metadata": {},
   "outputs": [
    {
     "name": "stdout",
     "output_type": "stream",
     "text": [
      "Data has 8 runs\n",
      "\n",
      "There are 128.0 total blocks in runs 1-8\n",
      "\n",
      "Shape of data from each run is: (511173, 1, 1, 280)\n",
      "\n",
      "XYZ dimensionality is: (511173, 1, 1) (one slice only)\n",
      "\n",
      "N = 280 TRs per run\n",
      "\n",
      "Numeric precision of data is: <class 'numpy.float64'>\n",
      "\n"
     ]
    }
   ],
   "source": [
    "nblocks = np.sum(np.concatenate(design))\n",
    "\n",
    "# print some relevant metadata\n",
    "print(f'Data has {len(data)} runs\\n')\n",
    "print(f'There are {nblocks} total blocks in runs 1-%d\\n' % len(data))\n",
    "print(f'Shape of data from each run is: {data[0].shape}\\n')\n",
    "print(f'XYZ dimensionality is: {data[0].shape[:3]} (one slice only)\\n')\n",
    "print(f'N = {data[0].shape[3]} TRs per run\\n')\n",
    "print(f'Numeric precision of data is: {type(data[0][0,0,0,0])}\\n')\n",
    "# print(f'There are {np.sum(FFA_roi)} voxels in the included FFA ROI\\n')\n",
    "# print(f'There are {np.sum(V1_roi)} voxels in the included V1 ROI')"
   ]
  },
  {
   "cell_type": "code",
   "execution_count": 9,
   "id": "630d531c-7b4c-483e-a9b5-46d9d53eda80",
   "metadata": {},
   "outputs": [
    {
     "name": "stdout",
     "output_type": "stream",
     "text": [
      "{'R2thresh': 0,\n",
      " 'brainR2': [],\n",
      " 'brainexclude': False,\n",
      " 'brainthresh': [99.0, 0.1],\n",
      " 'chunklen': 50000,\n",
      " 'extra_regressors': False,\n",
      " 'fracs': array([1.  , 0.95, 0.9 , 0.85, 0.8 , 0.75, 0.7 , 0.65, 0.6 , 0.55, 0.5 ,\n",
      "       0.45, 0.4 , 0.35, 0.3 , 0.25, 0.2 , 0.15, 0.1 , 0.05]),\n",
      " 'hrffitmask': 1,\n",
      " 'hrfmodel': 'optimise',\n",
      " 'hrfthresh': 0.5,\n",
      " 'lambda': 0,\n",
      " 'n_boots': 100,\n",
      " 'n_jobs': 1,\n",
      " 'n_pcs': 10,\n",
      " 'numforhrf': 50,\n",
      " 'pcR2cutoff': [],\n",
      " 'pcR2cutoffmask': 1,\n",
      " 'pcstop': 1.05,\n",
      " 'seed': 1654713640.143132,\n",
      " 'suppressoutput': 0,\n",
      " 'wantautoscale': 1,\n",
      " 'wantfileoutputs': [1, 1, 1, 1],\n",
      " 'wantfracridge': 1,\n",
      " 'wantglmdenoise': 1,\n",
      " 'wanthdf5': 0,\n",
      " 'wantlibrary': 1,\n",
      " 'wantlss': 0,\n",
      " 'wantmemoryoutputs': [1, 1, 1, 1],\n",
      " 'wantparametric': 0,\n",
      " 'wantpercentbold': 1}\n"
     ]
    }
   ],
   "source": [
    "# create a directory for saving GLMsingle outputs\n",
    "outputdir_glmsingle = os.path.join('../GLMsingle', 'sub-wlsubj%03d' % wlsubj)\n",
    "\n",
    "opt = dict()\n",
    "\n",
    "# set important fields for completeness (but these would be enabled by default)\n",
    "opt['wantlibrary'] = 1\n",
    "opt['wantglmdenoise'] = 1\n",
    "opt['wantfracridge'] = 1\n",
    "\n",
    "# for the purpose of this example we will keep the relevant outputs in memory\n",
    "# and also save them to the disk\n",
    "opt['wantfileoutputs'] = [1,1,1,1]\n",
    "opt['wantmemoryoutputs'] = [1,1,1,1]\n",
    "\n",
    "# running python GLMsingle involves creating a GLM_single object\n",
    "# and then running the procedure using the .fit() routine\n",
    "glmsingle_obj = GLM_single(opt)\n",
    "\n",
    "# visualize all the hyperparameters\n",
    "pprint(glmsingle_obj.params)"
   ]
  },
  {
   "cell_type": "code",
   "execution_count": 10,
   "id": "1740fbc4-faee-4949-9409-08b44c01a1e3",
   "metadata": {},
   "outputs": [
    {
     "name": "stdout",
     "output_type": "stream",
     "text": [
      "loading existing GLMsingle outputs from directory:\n",
      "\t../GLMsingle/sub-wlsubj114\n",
      "\telapsed time:  00:00:00\n"
     ]
    }
   ],
   "source": [
    "# this example saves output files to the folder  \"example2outputs/GLMsingle\"\n",
    "# if these outputs don't already exist, we will perform the time-consuming call to GLMsingle;\n",
    "# otherwise, we will just load from disk.\n",
    "start_time = time.time()\n",
    "\n",
    "if not os.path.exists(outputdir_glmsingle):\n",
    "\n",
    "    print(f'running GLMsingle...')\n",
    "    \n",
    "    # run GLMsingle\n",
    "    results_glmsingle = glmsingle_obj.fit(\n",
    "       design,\n",
    "       data,\n",
    "       stimdur,\n",
    "       tr,\n",
    "       outputdir=outputdir_glmsingle)\n",
    "    \n",
    "    # we assign outputs of GLMsingle to the \"results_glmsingle\" variable.\n",
    "    # note that results_glmsingle['typea'] contains GLM estimates from an ONOFF model,\n",
    "    # where all images are treated as the same condition. these estimates\n",
    "    # could be potentially used to find cortical areas that respond to\n",
    "    # visual stimuli. we want to compare beta weights between conditions\n",
    "    # therefore we are not going to include the ONOFF betas in any analyses of \n",
    "    # voxel reliability\n",
    "    \n",
    "else:\n",
    "    print(f'loading existing GLMsingle outputs from directory:\\n\\t{outputdir_glmsingle}')\n",
    "    \n",
    "    # load existing file outputs if they exist\n",
    "    results_glmsingle = dict()\n",
    "    results_glmsingle['typea'] = np.load(os.path.join(outputdir_glmsingle,'TYPEA_ONOFF.npy'),allow_pickle=True).item()\n",
    "    results_glmsingle['typeb'] = np.load(os.path.join(outputdir_glmsingle,'TYPEB_FITHRF.npy'),allow_pickle=True).item()\n",
    "    results_glmsingle['typec'] = np.load(os.path.join(outputdir_glmsingle,'TYPEC_FITHRF_GLMDENOISE.npy'),allow_pickle=True).item()\n",
    "    results_glmsingle['typed'] = np.load(os.path.join(outputdir_glmsingle,'TYPED_FITHRF_GLMDENOISE_RR.npy'),allow_pickle=True).item()\n",
    "\n",
    "elapsed_time = time.time() - start_time\n",
    "\n",
    "print(\n",
    "    '\\telapsed time: ',\n",
    "    f'{time.strftime(\"%H:%M:%S\", time.gmtime(elapsed_time))}'\n",
    ")"
   ]
  },
  {
   "cell_type": "code",
   "execution_count": 11,
   "id": "991abd73-d79d-46b0-aecd-cfaeafda9bc9",
   "metadata": {},
   "outputs": [
    {
     "name": "stdout",
     "output_type": "stream",
     "text": [
      "Analyzing top 100 voxels with largest beta weights by condition 3200\n"
     ]
    },
    {
     "data": {
      "image/png": "[encoded data removed]",
      "text/plain": [
       "<Figure size 432x288 with 1 Axes>"
      ]
     },
     "metadata": {
      "needs_background": "light"
     },
     "output_type": "display_data"
    },
    {
     "name": "stdout",
     "output_type": "stream",
     "text": [
      "(3200, 16)\n",
      "NOISE:  (320000, 16)\n"
     ]
    }
   ],
   "source": [
    "bs = results_glmsingle['typed']['betasmd']\n",
    "split_betas = np.hsplit(bs.squeeze(), 4)\n",
    "betas = np.mean(split_betas, axis = 0)\n",
    "std_betas = np.std(split_betas, axis = 0)\n",
    "\n",
    "n_conds = 32\n",
    "n_permutations = 100\n",
    "\n",
    "c = 1\n",
    "k = 100\n",
    "print(\"Analyzing top %d voxels with largest beta weights by condition\" % k, k*32)\n",
    "cb = []\n",
    "\n",
    "betas[np.isnan(betas)] = 0\n",
    "\n",
    "for c in range(betas.shape[-1]):\n",
    "    cond_betas = betas[np.where(betas[:, c] == np.nanmax(betas[:, c]))].squeeze()\n",
    "    cb.append(cond_betas)\n",
    "    \n",
    "cb = np.stack(cb, axis = 0)\n",
    "underline = cb.mean(axis = 0) - sem(cb, axis = 0)\n",
    "overline = cb.mean(axis = 0) + sem(cb, axis = 0)\n",
    "plt.plot(cb.mean(axis = 0))\n",
    "plt.fill_between(np.arange(betas.shape[-1]), overline, underline, alpha = 0.5)\n",
    "plt.show()\n",
    "\n",
    "cbmor = []\n",
    "cbmsr = []\n",
    "cbmnsr = []\n",
    "for c in range(betas.shape[-1]):\n",
    "    # idxs = np.where(betas[:, :, :, c] == np.nanmax(betas[:, :, :, c])\n",
    "    cond_betas = betas[np.where(betas[:, c] == np.nanmax(betas[:, c]))].squeeze()\n",
    "    cond_betas = betas[np.argpartition(betas[:, c], -k, axis = 0)[-k:].squeeze()].squeeze()\n",
    "    # cbm = cond_betas - cb.mean(axis = 0)\n",
    "    cbm = cond_betas\n",
    "    \n",
    "    cbm_s = cbm[:, :int(n_conds / 2)]\n",
    "    cbm_ns = cbm[:, int(n_conds / 2):]\n",
    "    cbm_o = (cbm_s + cbm_ns) / 2\n",
    "    \n",
    "    cbm_s_roll = np.roll(cbm_s, 7 - c)\n",
    "    cbm_ns_roll = np.roll(cbm_ns, 7 - c)\n",
    "    cbm_o_roll = np.roll(cbm_o, 7 - c)\n",
    "\n",
    "    \n",
    "    cbmor.append(cbm_o_roll)\n",
    "    cbmsr.append(cbm_s_roll)\n",
    "    cbmnsr.append(cbm_ns_roll)\n",
    "\n",
    "    \n",
    "cbmor = np.concatenate(cbmor, axis = 0)\n",
    "cbmsr = np.concatenate(cbmsr, axis = 0)\n",
    "cbmnsr = np.concatenate(cbmnsr, axis = 0)\n",
    "print(cbmor.shape)\n",
    "\n",
    "noise = []\n",
    "for i in range(n_permutations):\n",
    "    n = cbmor.copy().T\n",
    "    np.random.shuffle(n)\n",
    "    noise.append(n.T)\n",
    "noise = np.concatenate(noise, axis = 0)\n",
    "print(\"NOISE: \", noise.shape)\n"
   ]
  },
  {
   "cell_type": "code",
   "execution_count": 12,
   "id": "a92ab4ac-0549-4421-9512-eb6cd0f3da71",
   "metadata": {},
   "outputs": [
    {
     "data": {
      "text/plain": [
       "Text(0.5, 1.0, 'Difference between N.S. and S.')"
      ]
     },
     "execution_count": 12,
     "metadata": {},
     "output_type": "execute_result"
    },
    {
     "data": {
      "image/png": "[encoded data removed]",
      "text/plain": [
       "<Figure size 720x720 with 4 Axes>"
      ]
     },
     "metadata": {
      "needs_background": "light"
     },
     "output_type": "display_data"
    }
   ],
   "source": [
    "fig, axs = plt.subplots(2, 2, sharey = True, figsize = (10, 10))\n",
    "\n",
    "underline = cbmsr.mean(axis = 0) - sem(cbmsr, axis = 0)\n",
    "overline = cbmsr.mean(axis = 0) + sem(cbmsr, axis = 0)\n",
    "axs[0, 0].plot(cbmsr.mean(axis = 0), color = 'green')\n",
    "axs[0, 0].fill_between(np.arange(int(betas.shape[-1]/2)), overline, underline, alpha = 0.5)\n",
    "axs[0, 0].set_title('Saccade')\n",
    "\n",
    "underline = cbmnsr.mean(axis = 0) - sem(cbmnsr, axis = 0)\n",
    "overline = cbmnsr.mean(axis = 0) + sem(cbmnsr, axis = 0)\n",
    "axs[0, 1].plot(cbmnsr.mean(axis = 0), color = 'red')\n",
    "axs[0, 1].fill_between(np.arange(int(betas.shape[-1]/2)), overline, underline, alpha = 0.5)\n",
    "axs[0, 1].set_title('No Saccade')\n",
    "\n",
    "underline = cbmor.mean(axis = 0) - sem(cbmor, axis = 0)\n",
    "overline = cbmor.mean(axis = 0) + sem(cbmor, axis = 0)\n",
    "axs[1, 0].plot(cbmor.mean(axis = 0))\n",
    "axs[1, 0].fill_between(np.arange(int(betas.shape[-1]/2)), overline, underline, alpha = 0.5)\n",
    "axs[1, 0].set_title('Avg. of Both')\n",
    "\n",
    "underline = noise.mean(axis = 0) - sem(noise, axis = 0)\n",
    "overline = noise.mean(axis = 0) + sem(noise, axis = 0)\n",
    "axs[1, 0].plot(noise.mean(axis = 0))\n",
    "axs[1, 0].fill_between(np.arange(int(betas.shape[-1]/2)), overline, underline, alpha = 0.5)\n",
    "\n",
    "\n",
    "axs[1, 1].plot(cbmnsr.mean(axis = 0) - cbmsr.mean(axis = 0))\n",
    "axs[1, 1].set_title('Difference between N.S. and S.')\n"
   ]
  },
  {
   "cell_type": "code",
   "execution_count": null,
   "id": "1097eda7-cfd9-4f7c-9c7f-95fbb5fca699",
   "metadata": {},
   "outputs": [],
   "source": []
  },
  {
   "cell_type": "code",
   "execution_count": 44,
   "id": "50932125-480b-466e-a2fa-bcd7746cad7e",
   "metadata": {},
   "outputs": [
    {
     "name": "stdout",
     "output_type": "stream",
     "text": [
      "Analyzing top 1000 voxels with largest beta weights by condition 32000\n"
     ]
    },
    {
     "data": {
      "image/png": "[encoded data removed]",
      "text/plain": [
       "<Figure size 432x288 with 1 Axes>"
      ]
     },
     "metadata": {
      "needs_background": "light"
     },
     "output_type": "display_data"
    }
   ],
   "source": [
    "bs = results_glmsingle['typed']['betasmd']\n",
    "split_betas = np.hsplit(bs.squeeze(), 4)\n",
    "betas = np.mean(split_betas, axis = 0)\n",
    "std_betas = np.std(split_betas, axis = 0)\n",
    "\n",
    "n_conds = 32\n",
    "n_permutations = 100\n",
    "\n",
    "c = 1\n",
    "k = 1000\n",
    "print(\"Analyzing top %d voxels with largest beta weights by condition\" % k, k*32)\n",
    "cb = []\n",
    "\n",
    "betas[np.isnan(betas)] = 0\n",
    "\n",
    "for c in range(betas.shape[-1]):\n",
    "    cond_betas = betas[np.where(betas[:, c] == np.nanmax(betas[:, c]))].squeeze()\n",
    "    cb.append(cond_betas)\n",
    "    \n",
    "cb = np.stack(cb, axis = 0)\n",
    "underline = cb.mean(axis = 0) - sem(cb, axis = 0)\n",
    "overline = cb.mean(axis = 0) + sem(cb, axis = 0)\n",
    "plt.plot(cb.mean(axis = 0))\n",
    "plt.fill_between(np.arange(betas.shape[-1]), overline, underline, alpha = 0.5)\n",
    "plt.show()\n",
    "\n",
    "cbmor = []\n",
    "cbmsr = []\n",
    "cbmnsr = []\n",
    "for c in range(betas.shape[-1]):\n",
    "    # idxs = np.where(betas[:, :, :, c] == np.nanmax(betas[:, :, :, c])\n",
    "    \n",
    "    if c < (betas.shape[-1]/2):\n",
    "        cond_betas = betas[np.argpartition(betas[:, int(c + 16)], -k, axis = 0)[-k:].squeeze()].squeeze()\n",
    "        # cbm = cond_betas - cb.mean(axis = 0)\n",
    "        cbm = cond_betas\n",
    "\n",
    "        cbm_s = cbm[:, :int(n_conds / 2)]\n",
    "        \n",
    "    else:\n",
    "        cond_betas = betas[np.argpartition(betas[:, int(c - 16)], -k, axis = 0)[-k:].squeeze()].squeeze()\n",
    "        # cbm = cond_betas - cb.mean(axis = 0)\n",
    "        cbm = cond_betas\n",
    "\n",
    "        cbm_ns = cbm[:, :int(n_conds / 2)]\n",
    "    \n",
    "    cbm_s_roll = np.roll(cbm_s, 7 - c)\n",
    "    cbm_ns_roll = np.roll(cbm_ns, 7 - c)\n",
    "\n",
    "    cbmsr.append(cbm_s_roll)\n",
    "    cbmnsr.append(cbm_ns_roll)\n",
    "\n",
    "cbmsr = np.concatenate(cbmsr, axis = 0)\n",
    "cbmnsr = np.concatenate(cbmnsr, axis = 0)\n"
   ]
  },
  {
   "cell_type": "code",
   "execution_count": 13,
   "id": "372c5a76-4181-438c-aeac-668d91331f0e",
   "metadata": {},
   "outputs": [
    {
     "data": {
      "text/plain": [
       "16.0"
      ]
     },
     "execution_count": 13,
     "metadata": {},
     "output_type": "execute_result"
    }
   ],
   "source": [
    "(betas.shape[-1]/2)"
   ]
  },
  {
   "cell_type": "code",
   "execution_count": 45,
   "id": "396aac03-a050-4289-bec0-9a329535596b",
   "metadata": {},
   "outputs": [
    {
     "data": {
      "text/plain": [
       "Text(0.5, 1.0, 'Difference between N.S. and S.')"
      ]
     },
     "execution_count": 45,
     "metadata": {},
     "output_type": "execute_result"
    },
    {
     "data": {
      "image/png": "[encoded data removed]",
      "text/plain": [
       "<Figure size 720x720 with 4 Axes>"
      ]
     },
     "metadata": {
      "needs_background": "light"
     },
     "output_type": "display_data"
    }
   ],
   "source": [
    "fig, axs = plt.subplots(2, 2, sharey = True, figsize = (10, 10))\n",
    "\n",
    "underline = cbmsr.mean(axis = 0) - sem(cbmsr, axis = 0)\n",
    "overline = cbmsr.mean(axis = 0) + sem(cbmsr, axis = 0)\n",
    "axs[0, 0].plot(cbmsr.mean(axis = 0), color = 'green')\n",
    "axs[0, 0].fill_between(np.arange(int(betas.shape[-1]/2)), overline, underline, alpha = 0.5)\n",
    "axs[0, 0].set_title('Saccade')\n",
    "\n",
    "underline = cbmnsr.mean(axis = 0) - sem(cbmnsr, axis = 0)\n",
    "overline = cbmnsr.mean(axis = 0) + sem(cbmnsr, axis = 0)\n",
    "axs[0, 1].plot(cbmnsr.mean(axis = 0), color = 'red')\n",
    "axs[0, 1].fill_between(np.arange(int(betas.shape[-1]/2)), overline, underline, alpha = 0.5)\n",
    "axs[0, 1].set_title('No Saccade')\n",
    "\n",
    "axs[1, 1].plot(cbmnsr.mean(axis = 0) - cbmsr.mean(axis = 0))\n",
    "axs[1, 1].set_title('Difference between N.S. and S.')\n"
   ]
  },
  {
   "cell_type": "code",
   "execution_count": 145,
   "id": "d03a86e5-6321-4ece-9723-e256629fa5e0",
   "metadata": {},
   "outputs": [],
   "source": [
    "PARAMS = {\n",
    "    '1-6': {\n",
    "        'n_TR': 280,\n",
    "        'n_conds': 48,\n",
    "        'tr': 1,\n",
    "        'sacc_dur': 1,\n",
    "        'design_filenames': [\n",
    "            'sub-wlsubj139_run-01_perception_07-16-22_14-25_trialdesign.tsv',\n",
    "            'sub-wlsubj139_run-02_ltm_07-16-22_14-33_trialdesign.tsv',\n",
    "            'sub-wlsubj139_run-03_wm_07-16-22_14-39_trialdesign.tsv',\n",
    "            'sub-wlsubj139_run-04_perception_07-16-22_14-45_trialdesign.tsv',\n",
    "            'sub-wlsubj139_run-05_ltm_07-16-22_14-50_trialdesign.tsv',\n",
    "            'sub-wlsubj139_run-06_wm_07-16-22_14-56_trialdesign.tsv'\n",
    "        ]       \n",
    "    },\n",
    "    \n",
    "    '7-12': {\n",
    "        'n_TR': 314,\n",
    "        'n_conds': 48,\n",
    "        'tr': 1,\n",
    "        'sacc_dur': 1.5,\n",
    "        'design_filenames': []\n",
    "    }\n",
    "}"
   ]
  },
  {
   "cell_type": "code",
   "execution_count": 163,
   "id": "5854c38b-a888-4df2-862f-f8af8724d340",
   "metadata": {},
   "outputs": [
    {
     "data": {
      "text/plain": [
       "'/Users/rob/mnt/winawer/Projects/Interstellar/task/Interstellar/main/design/sub-wlsubj139/sub-wlsubj139_run-06_wm_07-16-22_14-56_trialdesign.tsv'"
      ]
     },
     "execution_count": 163,
     "metadata": {},
     "output_type": "execute_result"
    }
   ],
   "source": [
    "d"
   ]
  },
  {
   "cell_type": "code",
   "execution_count": 181,
   "id": "5febee4a-7733-43e4-ac11-936a802ae030",
   "metadata": {},
   "outputs": [
    {
     "data": {
      "text/plain": [
       "array([10, 13,  5,  2, 14,  3,  0,  8,  9, 15,  4,  1,  7, 11,  6, 12, 19,\n",
       "       18, 24, 22, 27, 16, 23, 28, 21, 25, 20, 30, 29, 31, 26, 17, 42, 39,\n",
       "       44, 43, 32, 33, 41, 37, 35, 34, 38, 47, 45, 46, 36, 40, 14, 11,  4,\n",
       "        1,  8, 15, 12, 10,  3, 13,  7,  6,  2,  0,  9,  5, 28, 27, 31, 22,\n",
       "       26, 16, 25, 21, 18, 20, 29, 19, 23, 17, 24, 30, 44, 33, 36, 43, 38,\n",
       "       39, 35, 32, 47, 46, 45, 42, 40, 41, 37, 34])"
      ]
     },
     "execution_count": 181,
     "metadata": {},
     "output_type": "execute_result"
    }
   ],
   "source": [
    "np.asarray([pd.read_csv(d, sep = '\\t').cond.values for d in design_filepaths]).flatten()"
   ]
  },
  {
   "cell_type": "code",
   "execution_count": 180,
   "id": "599b45c2-8993-4203-8d81-f9655250b151",
   "metadata": {},
   "outputs": [
    {
     "data": {
      "text/plain": [
       "array([[10, 13,  5,  2, 14,  3,  0,  8,  9, 15,  4,  1,  7, 11,  6, 12],\n",
       "       [19, 18, 24, 22, 27, 16, 23, 28, 21, 25, 20, 30, 29, 31, 26, 17],\n",
       "       [42, 39, 44, 43, 32, 33, 41, 37, 35, 34, 38, 47, 45, 46, 36, 40],\n",
       "       [14, 11,  4,  1,  8, 15, 12, 10,  3, 13,  7,  6,  2,  0,  9,  5],\n",
       "       [28, 27, 31, 22, 26, 16, 25, 21, 18, 20, 29, 19, 23, 17, 24, 30],\n",
       "       [44, 33, 36, 43, 38, 39, 35, 32, 47, 46, 45, 42, 40, 41, 37, 34]])"
      ]
     },
     "execution_count": 180,
     "metadata": {},
     "output_type": "execute_result"
    }
   ],
   "source": [
    "np.asarray([pd.read_csv(d, sep = '\\t').cond.values for d in design_filepaths])"
   ]
  },
  {
   "cell_type": "markdown",
   "id": "935d84af-3463-4627-be63-bd58aa96cc2d",
   "metadata": {},
   "source": [
    "##### "
   ]
  }
 ],
 "metadata": {
  "kernelspec": {
   "display_name": "Python 3",
   "language": "python",
   "name": "python3"
  },
  "language_info": {
   "codemirror_mode": {
    "name": "ipython",
    "version": 3
   },
   "file_extension": ".py",
   "mimetype": "text/x-python",
   "name": "python",
   "nbconvert_exporter": "python",
   "pygments_lexer": "ipython3",
   "version": "3.9.5"
  }
 },
 "nbformat": 4,
 "nbformat_minor": 5
}
