{
 "cells": [
  {
   "cell_type": "code",
   "execution_count": 67,
   "id": "303f25e9-99da-4f24-b671-4d26341705d7",
   "metadata": {},
   "outputs": [],
   "source": [
    "import numpy as np\n",
    "import nibabel as nib\n",
    "import os"
   ]
  },
  {
   "cell_type": "code",
   "execution_count": 66,
   "id": "0b943244-7cc3-434b-810b-36cc277d3cee",
   "metadata": {},
   "outputs": [
    {
     "data": {
      "text/plain": [
       "True"
      ]
     },
     "execution_count": 66,
     "metadata": {},
     "output_type": "execute_result"
    }
   ],
   "source": [
    "\n",
    "sub_id = 1\n",
    "run = 2\n",
    "ses = 'pilot01'\n",
    "\n",
    "project_dir = '//Volumes/server/Projects/Interstellar'\n",
    "sub_dir = \"sub-%03d/ses-%s/func/sub-%03d_ses-%s_task-intpilot_run-%02d_bold.nii.gz\" % (sub_id, ses, sub_id, ses, run)\n",
    "\n",
    "sub_dir = os.path.join(project_dir, sub_dir)\n",
    "\n"
   ]
  },
  {
   "cell_type": "code",
   "execution_count": null,
   "id": "513effa5-d4ef-4c4e-87b5-39e3519bbf65",
   "metadata": {},
   "outputs": [],
   "source": []
  }
 ],
 "metadata": {
  "kernelspec": {
   "display_name": "Python 3",
   "language": "python",
   "name": "python3"
  },
  "language_info": {
   "codemirror_mode": {
    "name": "ipython",
    "version": 3
   },
   "file_extension": ".py",
   "mimetype": "text/x-python",
   "name": "python",
   "nbconvert_exporter": "python",
   "pygments_lexer": "ipython3",
   "version": "3.9.5"
  }
 },
 "nbformat": 4,
 "nbformat_minor": 5
}
